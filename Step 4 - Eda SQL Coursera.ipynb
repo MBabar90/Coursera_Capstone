{
 "cells": [
  {
   "cell_type": "markdown",
   "metadata": {},
   "source": [
    "<center>\n",
    "    <img src=\"https://gitlab.com/ibm/skills-network/courses/placeholder101/-/raw/master/labs/module%201/images/IDSNlogo.png\"  width=\"300\" alt=\"cognitiveclass.ai logo\"  />\n",
    "</center>\n",
    "\n",
    "<h1 align=center><font size = 5>Assignment: SQL Notebook for Peer Assignment</font></h1>\n",
    "\n",
    "Estimated time needed: **60** minutes.\n",
    "\n",
    "## Introduction\n",
    "\n",
    "Using this Python notebook you will:\n",
    "\n",
    "1.  Understand the Spacex DataSet\n",
    "2.  Load the dataset  into the corresponding table in a Db2 database\n",
    "3.  Execute SQL queries to answer assignment questions\n"
   ]
  },
  {
   "cell_type": "markdown",
   "metadata": {},
   "source": [
    "## Overview of the DataSet\n",
    "\n",
    "SpaceX has gained worldwide attention for a series of historic milestones.\n",
    "\n",
    "It is the only private company ever to return a spacecraft from low-earth orbit, which it first accomplished in December 2010.\n",
    "SpaceX advertises Falcon 9 rocket launches on its website with a cost of 62 million dollars wheras other providers cost upward of 165 million dollars each, much of the savings is because Space X can reuse the first stage.\n",
    "\n",
    "Therefore if we can determine if the first stage will land, we can determine the cost of a launch.\n",
    "\n",
    "This information can be used if an alternate company wants to bid against SpaceX for a rocket launch.\n",
    "\n",
    "This dataset includes a record for each payload carried during a SpaceX mission into outer space.\n"
   ]
  },
  {
   "cell_type": "markdown",
   "metadata": {},
   "source": [
    "### Download the datasets\n",
    "\n",
    "This assignment requires you to load the spacex dataset.\n",
    "\n",
    "In many cases the dataset to be analyzed is available as a .CSV (comma separated values) file, perhaps on the internet. Click on the link below to download and save the dataset (.CSV file):\n",
    "\n",
    "<a href=\"https://cf-courses-data.s3.us.cloud-object-storage.appdomain.cloud/IBM-DS0321EN-SkillsNetwork/labs/module_2/data/Spacex.csv?utm_medium=Exinfluencer&utm_source=Exinfluencer&utm_content=000026UJ&utm_term=10006555&utm_id=NA-SkillsNetwork-Channel-SkillsNetworkCoursesIBMDS0321ENSkillsNetwork26802033-2021-01-01\" target=\"_blank\">Spacex DataSet</a>\n"
   ]
  },
  {
   "cell_type": "code",
   "execution_count": null,
   "metadata": {},
   "outputs": [],
   "source": [
    "#!pip install ipython-sql\n",
    "#!pip install sqlite3\n",
    "#!pip install sqlalchemy==1.3.9\n",
    "#!pip install ibm_db_sa"
   ]
  },
  {
   "cell_type": "markdown",
   "metadata": {},
   "source": [
    "### Connect to the database\n",
    "\n",
    "Let us first load the SQL extension and establish a connection with the database\n"
   ]
  },
  {
   "cell_type": "code",
   "execution_count": 1,
   "metadata": {},
   "outputs": [
    {
     "name": "stdout",
     "output_type": "stream",
     "text": [
      "           Date Time (UTC) Booster_Version   Launch_Site  \\\n",
      "0    04-06-2010   18:45:00  F9 v1.0  B0003   CCAFS LC-40   \n",
      "1    08-12-2010   15:43:00  F9 v1.0  B0004   CCAFS LC-40   \n",
      "2    22-05-2012   07:44:00  F9 v1.0  B0005   CCAFS LC-40   \n",
      "3    08-10-2012   00:35:00  F9 v1.0  B0006   CCAFS LC-40   \n",
      "4    01-03-2013   15:10:00  F9 v1.0  B0007   CCAFS LC-40   \n",
      "..          ...        ...             ...           ...   \n",
      "96   05-11-2020   23:24:23    F9 B5B1062.1  CCAFS SLC-40   \n",
      "97   16-11-2020   00:27:00   F9 B5B1061.1     KSC LC-39A   \n",
      "98   21-11-2020   17:17:08    F9 B5B1063.1   VAFB SLC-4E   \n",
      "99   25-11-2020   02:13:00  F9 B5 B1049.7   CCAFS SLC-40   \n",
      "100  06-12-2020   16:17:08  F9 B5 B1058.4     KSC LC-39A   \n",
      "\n",
      "                                               Payload  PAYLOAD_MASS__KG_  \\\n",
      "0                 Dragon Spacecraft Qualification Unit                  0   \n",
      "1    Dragon demo flight C1, two CubeSats, barrel of...                  0   \n",
      "2                                Dragon demo flight C2                525   \n",
      "3                                         SpaceX CRS-1                500   \n",
      "4                                         SpaceX CRS-2                677   \n",
      "..                                                 ...                ...   \n",
      "96                                 GPS III-04 , Crew-1               4311   \n",
      "97                Crew-1, Sentinel-6 Michael Freilich               12500   \n",
      "98      Sentinel-6 Michael Freilich, Starlink 15 v1.0                1192   \n",
      "99                     Starlink 15 v1.0, SpaceX CRS-21              15600   \n",
      "100                                      SpaceX CRS-21               2972   \n",
      "\n",
      "         Orbit                      Customer Mission_Outcome  \\\n",
      "0          LEO                        SpaceX         Success   \n",
      "1    LEO (ISS)               NASA (COTS) NRO         Success   \n",
      "2    LEO (ISS)                   NASA (COTS)         Success   \n",
      "3    LEO (ISS)                    NASA (CRS)         Success   \n",
      "4    LEO (ISS)                    NASA (CRS)         Success   \n",
      "..         ...                           ...             ...   \n",
      "96         MEO                          USSF         Success   \n",
      "97   LEO (ISS)                    NASA (CCP)         Success   \n",
      "98         LEO  NASA / NOAA / ESA / EUMETSAT         Success   \n",
      "99         LEO                        SpaceX         Success   \n",
      "100  LEO (ISS)                    NASA (CRS)         Success   \n",
      "\n",
      "        Landing _Outcome  \n",
      "0    Failure (parachute)  \n",
      "1    Failure (parachute)  \n",
      "2             No attempt  \n",
      "3             No attempt  \n",
      "4             No attempt  \n",
      "..                   ...  \n",
      "96               Success  \n",
      "97               Success  \n",
      "98               Success  \n",
      "99               Success  \n",
      "100              Success  \n",
      "\n",
      "[101 rows x 10 columns]\n"
     ]
    }
   ],
   "source": [
    "import sqlite3\n",
    "import pandas as pd\n",
    "df = pd.read_csv (r'D:\\Coursera\\IBM Data Science\\Capstone Latest\\Spacex.csv')\n",
    "print (df)"
   ]
  },
  {
   "cell_type": "code",
   "execution_count": 2,
   "metadata": {},
   "outputs": [
    {
     "name": "stderr",
     "output_type": "stream",
     "text": [
      "C:\\Users\\Babar\\anaconda3\\lib\\site-packages\\pandas\\core\\generic.py:2605: UserWarning: The spaces in these column names will not be changed. In pandas versions < 0.14, spaces were converted to underscores.\n",
      "  sql.to_sql(\n"
     ]
    }
   ],
   "source": [
    "cnn = sqlite3.connect('IBMCapstoneSQL.db',)\n",
    "df.to_sql('Spacex',cnn,if_exists=\"replace\")"
   ]
  },
  {
   "cell_type": "code",
   "execution_count": 3,
   "metadata": {},
   "outputs": [],
   "source": [
    "%load_ext sql\n",
    "%sql sqlite:///IBMCapstoneSQL.db"
   ]
  },
  {
   "cell_type": "markdown",
   "metadata": {},
   "source": [
    "## Tasks\n",
    "\n",
    "Now write and execute SQL queries to solve the assignment tasks.\n",
    "\n",
    "### Task 1\n",
    "\n",
    "##### Display the names of the unique launch sites  in the space mission\n"
   ]
  },
  {
   "cell_type": "code",
   "execution_count": 4,
   "metadata": {},
   "outputs": [
    {
     "name": "stdout",
     "output_type": "stream",
     "text": [
      " * sqlite:///IBMCapstoneSQL.db\n",
      "Done.\n"
     ]
    },
    {
     "data": {
      "text/html": [
       "<table>\n",
       "    <tr>\n",
       "        <th>Launch_Site</th>\n",
       "    </tr>\n",
       "    <tr>\n",
       "        <td>CCAFS LC-40</td>\n",
       "    </tr>\n",
       "    <tr>\n",
       "        <td>VAFB SLC-4E</td>\n",
       "    </tr>\n",
       "    <tr>\n",
       "        <td>KSC LC-39A</td>\n",
       "    </tr>\n",
       "    <tr>\n",
       "        <td>CCAFS SLC-40</td>\n",
       "    </tr>\n",
       "</table>"
      ],
      "text/plain": [
       "[('CCAFS LC-40',), ('VAFB SLC-4E',), ('KSC LC-39A',), ('CCAFS SLC-40',)]"
      ]
     },
     "execution_count": 4,
     "metadata": {},
     "output_type": "execute_result"
    }
   ],
   "source": [
    "%%sql\n",
    "SELECT DISTINCT(Launch_Site) FROM Spacex"
   ]
  },
  {
   "cell_type": "markdown",
   "metadata": {},
   "source": [
    "### Task 2\n",
    "\n",
    "##### Display 5 records where launch sites begin with the string 'CCA'\n"
   ]
  },
  {
   "cell_type": "code",
   "execution_count": 5,
   "metadata": {},
   "outputs": [
    {
     "name": "stdout",
     "output_type": "stream",
     "text": [
      " * sqlite:///IBMCapstoneSQL.db\n",
      "Done.\n"
     ]
    },
    {
     "data": {
      "text/html": [
       "<table>\n",
       "    <tr>\n",
       "        <th>index</th>\n",
       "        <th>Date</th>\n",
       "        <th>Time (UTC)</th>\n",
       "        <th>Booster_Version</th>\n",
       "        <th>Launch_Site</th>\n",
       "        <th>Payload</th>\n",
       "        <th>PAYLOAD_MASS__KG_</th>\n",
       "        <th>Orbit</th>\n",
       "        <th>Customer</th>\n",
       "        <th>Mission_Outcome</th>\n",
       "        <th>Landing _Outcome</th>\n",
       "    </tr>\n",
       "    <tr>\n",
       "        <td>0</td>\n",
       "        <td>04-06-2010</td>\n",
       "        <td>18:45:00</td>\n",
       "        <td>F9 v1.0  B0003</td>\n",
       "        <td>CCAFS LC-40</td>\n",
       "        <td>Dragon Spacecraft Qualification Unit</td>\n",
       "        <td>0</td>\n",
       "        <td>LEO</td>\n",
       "        <td>SpaceX</td>\n",
       "        <td>Success</td>\n",
       "        <td>Failure (parachute)</td>\n",
       "    </tr>\n",
       "    <tr>\n",
       "        <td>1</td>\n",
       "        <td>08-12-2010</td>\n",
       "        <td>15:43:00</td>\n",
       "        <td>F9 v1.0  B0004</td>\n",
       "        <td>CCAFS LC-40</td>\n",
       "        <td>Dragon demo flight C1, two CubeSats, barrel of Brouere cheese</td>\n",
       "        <td>0</td>\n",
       "        <td>LEO (ISS)</td>\n",
       "        <td>NASA (COTS) NRO</td>\n",
       "        <td>Success</td>\n",
       "        <td>Failure (parachute)</td>\n",
       "    </tr>\n",
       "    <tr>\n",
       "        <td>2</td>\n",
       "        <td>22-05-2012</td>\n",
       "        <td>07:44:00</td>\n",
       "        <td>F9 v1.0  B0005</td>\n",
       "        <td>CCAFS LC-40</td>\n",
       "        <td>Dragon demo flight C2</td>\n",
       "        <td>525</td>\n",
       "        <td>LEO (ISS)</td>\n",
       "        <td>NASA (COTS)</td>\n",
       "        <td>Success</td>\n",
       "        <td>No attempt</td>\n",
       "    </tr>\n",
       "    <tr>\n",
       "        <td>3</td>\n",
       "        <td>08-10-2012</td>\n",
       "        <td>00:35:00</td>\n",
       "        <td>F9 v1.0  B0006</td>\n",
       "        <td>CCAFS LC-40</td>\n",
       "        <td>SpaceX CRS-1</td>\n",
       "        <td>500</td>\n",
       "        <td>LEO (ISS)</td>\n",
       "        <td>NASA (CRS)</td>\n",
       "        <td>Success</td>\n",
       "        <td>No attempt</td>\n",
       "    </tr>\n",
       "    <tr>\n",
       "        <td>4</td>\n",
       "        <td>01-03-2013</td>\n",
       "        <td>15:10:00</td>\n",
       "        <td>F9 v1.0  B0007</td>\n",
       "        <td>CCAFS LC-40</td>\n",
       "        <td>SpaceX CRS-2</td>\n",
       "        <td>677</td>\n",
       "        <td>LEO (ISS)</td>\n",
       "        <td>NASA (CRS)</td>\n",
       "        <td>Success</td>\n",
       "        <td>No attempt</td>\n",
       "    </tr>\n",
       "</table>"
      ],
      "text/plain": [
       "[(0, '04-06-2010', '18:45:00', 'F9 v1.0  B0003', 'CCAFS LC-40', 'Dragon Spacecraft Qualification Unit', 0, 'LEO', 'SpaceX', 'Success', 'Failure (parachute)'),\n",
       " (1, '08-12-2010', '15:43:00', 'F9 v1.0  B0004', 'CCAFS LC-40', 'Dragon demo flight C1, two CubeSats, barrel of Brouere cheese', 0, 'LEO (ISS)', 'NASA (COTS) NRO', 'Success', 'Failure (parachute)'),\n",
       " (2, '22-05-2012', '07:44:00', 'F9 v1.0  B0005', 'CCAFS LC-40', 'Dragon demo flight C2', 525, 'LEO (ISS)', 'NASA (COTS)', 'Success', 'No attempt'),\n",
       " (3, '08-10-2012', '00:35:00', 'F9 v1.0  B0006', 'CCAFS LC-40', 'SpaceX CRS-1', 500, 'LEO (ISS)', 'NASA (CRS)', 'Success', 'No attempt'),\n",
       " (4, '01-03-2013', '15:10:00', 'F9 v1.0  B0007', 'CCAFS LC-40', 'SpaceX CRS-2', 677, 'LEO (ISS)', 'NASA (CRS)', 'Success', 'No attempt')]"
      ]
     },
     "execution_count": 5,
     "metadata": {},
     "output_type": "execute_result"
    }
   ],
   "source": [
    "%%sql\n",
    "SELECT * FROM Spacex\n",
    "WHERE Launch_Site LIKE 'CCA%'\n",
    "LIMIT 5"
   ]
  },
  {
   "cell_type": "markdown",
   "metadata": {},
   "source": [
    "### Task 3\n",
    "\n",
    "##### Display the total payload mass carried by boosters launched by NASA (CRS)\n"
   ]
  },
  {
   "cell_type": "code",
   "execution_count": 6,
   "metadata": {},
   "outputs": [
    {
     "name": "stdout",
     "output_type": "stream",
     "text": [
      " * sqlite:///IBMCapstoneSQL.db\n",
      "Done.\n"
     ]
    },
    {
     "data": {
      "text/html": [
       "<table>\n",
       "    <tr>\n",
       "        <th>SUM(PAYLOAD_MASS__KG_)</th>\n",
       "    </tr>\n",
       "    <tr>\n",
       "        <td>45596</td>\n",
       "    </tr>\n",
       "</table>"
      ],
      "text/plain": [
       "[(45596,)]"
      ]
     },
     "execution_count": 6,
     "metadata": {},
     "output_type": "execute_result"
    }
   ],
   "source": [
    "%%sql\n",
    "SELECT SUM(PAYLOAD_MASS__KG_) FROM Spacex\n",
    "WHERE Customer = \"NASA (CRS)\";"
   ]
  },
  {
   "cell_type": "markdown",
   "metadata": {},
   "source": [
    "### Task 4\n",
    "\n",
    "##### Display average payload mass carried by booster version F9 v1.1\n"
   ]
  },
  {
   "cell_type": "code",
   "execution_count": 7,
   "metadata": {},
   "outputs": [
    {
     "name": "stdout",
     "output_type": "stream",
     "text": [
      " * sqlite:///IBMCapstoneSQL.db\n",
      "Done.\n"
     ]
    },
    {
     "data": {
      "text/html": [
       "<table>\n",
       "    <tr>\n",
       "        <th>AVG(PAYLOAD_MASS__KG_)</th>\n",
       "    </tr>\n",
       "    <tr>\n",
       "        <td>2279.8</td>\n",
       "    </tr>\n",
       "</table>"
      ],
      "text/plain": [
       "[(2279.8,)]"
      ]
     },
     "execution_count": 7,
     "metadata": {},
     "output_type": "execute_result"
    }
   ],
   "source": [
    "%%sql\n",
    "SELECT AVG(PAYLOAD_MASS__KG_) FROM Spacex\n",
    "WHERE Customer = \"NASA (CRS)\";"
   ]
  },
  {
   "cell_type": "markdown",
   "metadata": {},
   "source": [
    "### Task 5\n",
    "\n",
    "##### List the date when the first successful landing outcome in ground pad was acheived.\n",
    "\n",
    "*Hint:Use min function*\n"
   ]
  },
  {
   "cell_type": "code",
   "execution_count": 8,
   "metadata": {},
   "outputs": [
    {
     "name": "stdout",
     "output_type": "stream",
     "text": [
      " * sqlite:///IBMCapstoneSQL.db\n",
      "Done.\n"
     ]
    },
    {
     "data": {
      "text/html": [
       "<table>\n",
       "    <tr>\n",
       "        <th>Min(Date)</th>\n",
       "    </tr>\n",
       "    <tr>\n",
       "        <td>01-05-2017</td>\n",
       "    </tr>\n",
       "</table>"
      ],
      "text/plain": [
       "[('01-05-2017',)]"
      ]
     },
     "execution_count": 8,
     "metadata": {},
     "output_type": "execute_result"
    }
   ],
   "source": [
    "%%sql\n",
    "SELECT Min(Date) FROM Spacex\n",
    "WHERE \"Landing _Outcome\" LIKE 'Success (ground pad)'"
   ]
  },
  {
   "cell_type": "markdown",
   "metadata": {},
   "source": [
    "### Task 6\n",
    "\n",
    "##### List the names of the boosters which have success in drone ship and have payload mass greater than 4000 but less than 6000\n"
   ]
  },
  {
   "cell_type": "code",
   "execution_count": 9,
   "metadata": {},
   "outputs": [
    {
     "name": "stdout",
     "output_type": "stream",
     "text": [
      " * sqlite:///IBMCapstoneSQL.db\n",
      "Done.\n"
     ]
    },
    {
     "data": {
      "text/html": [
       "<table>\n",
       "    <tr>\n",
       "        <th>Booster_Version</th>\n",
       "    </tr>\n",
       "    <tr>\n",
       "        <td>F9 FT B1022</td>\n",
       "    </tr>\n",
       "    <tr>\n",
       "        <td>F9 FT B1026</td>\n",
       "    </tr>\n",
       "    <tr>\n",
       "        <td>F9 FT  B1021.2</td>\n",
       "    </tr>\n",
       "    <tr>\n",
       "        <td>F9 FT  B1031.2</td>\n",
       "    </tr>\n",
       "</table>"
      ],
      "text/plain": [
       "[('F9 FT B1022',), ('F9 FT B1026',), ('F9 FT  B1021.2',), ('F9 FT  B1031.2',)]"
      ]
     },
     "execution_count": 9,
     "metadata": {},
     "output_type": "execute_result"
    }
   ],
   "source": [
    "%%sql\n",
    "SELECT Booster_Version FROM Spacex\n",
    "WHERE \"Landing _Outcome\" = \"Success (drone ship)\" AND\n",
    "PAYLOAD_MASS__KG_>4000 and PAYLOAD_MASS__KG_<6000;"
   ]
  },
  {
   "cell_type": "markdown",
   "metadata": {},
   "source": [
    "### Task 7\n",
    "\n",
    "##### List the total number of successful and failure mission outcomes\n"
   ]
  },
  {
   "cell_type": "code",
   "execution_count": 10,
   "metadata": {},
   "outputs": [
    {
     "name": "stdout",
     "output_type": "stream",
     "text": [
      " * sqlite:///IBMCapstoneSQL.db\n",
      "Done.\n"
     ]
    },
    {
     "data": {
      "text/html": [
       "<table>\n",
       "    <tr>\n",
       "        <th>Mission_Outcome</th>\n",
       "        <th>Count(Mission_Outcome)</th>\n",
       "    </tr>\n",
       "    <tr>\n",
       "        <td>Failure (in flight)</td>\n",
       "        <td>1</td>\n",
       "    </tr>\n",
       "    <tr>\n",
       "        <td>Success</td>\n",
       "        <td>98</td>\n",
       "    </tr>\n",
       "    <tr>\n",
       "        <td>Success </td>\n",
       "        <td>1</td>\n",
       "    </tr>\n",
       "    <tr>\n",
       "        <td>Success (payload status unclear)</td>\n",
       "        <td>1</td>\n",
       "    </tr>\n",
       "</table>"
      ],
      "text/plain": [
       "[('Failure (in flight)', 1),\n",
       " ('Success', 98),\n",
       " ('Success ', 1),\n",
       " ('Success (payload status unclear)', 1)]"
      ]
     },
     "execution_count": 10,
     "metadata": {},
     "output_type": "execute_result"
    }
   ],
   "source": [
    "%%sql\n",
    "SELECT Mission_Outcome, Count(Mission_Outcome) FROM Spacex\n",
    "GROUP BY Mission_Outcome;"
   ]
  },
  {
   "cell_type": "markdown",
   "metadata": {},
   "source": [
    "### Task 8\n",
    "\n",
    "##### List the   names of the booster_versions which have carried the maximum payload mass. Use a subquery\n"
   ]
  },
  {
   "cell_type": "code",
   "execution_count": 11,
   "metadata": {},
   "outputs": [
    {
     "name": "stdout",
     "output_type": "stream",
     "text": [
      " * sqlite:///IBMCapstoneSQL.db\n",
      "Done.\n"
     ]
    },
    {
     "data": {
      "text/html": [
       "<table>\n",
       "    <tr>\n",
       "        <th>Booster_Version</th>\n",
       "        <th>PayloadMass</th>\n",
       "    </tr>\n",
       "    <tr>\n",
       "        <td>F9 B5 B1060.3</td>\n",
       "        <td>15600</td>\n",
       "    </tr>\n",
       "    <tr>\n",
       "        <td>F9 B5 B1060.2 </td>\n",
       "        <td>15600</td>\n",
       "    </tr>\n",
       "    <tr>\n",
       "        <td>F9 B5 B1058.3 </td>\n",
       "        <td>15600</td>\n",
       "    </tr>\n",
       "    <tr>\n",
       "        <td>F9 B5 B1056.4</td>\n",
       "        <td>15600</td>\n",
       "    </tr>\n",
       "    <tr>\n",
       "        <td>F9 B5 B1051.6</td>\n",
       "        <td>15600</td>\n",
       "    </tr>\n",
       "    <tr>\n",
       "        <td>F9 B5 B1051.4</td>\n",
       "        <td>15600</td>\n",
       "    </tr>\n",
       "    <tr>\n",
       "        <td>F9 B5 B1051.3</td>\n",
       "        <td>15600</td>\n",
       "    </tr>\n",
       "    <tr>\n",
       "        <td>F9 B5 B1049.7 </td>\n",
       "        <td>15600</td>\n",
       "    </tr>\n",
       "    <tr>\n",
       "        <td>F9 B5 B1049.5</td>\n",
       "        <td>15600</td>\n",
       "    </tr>\n",
       "    <tr>\n",
       "        <td>F9 B5 B1049.4</td>\n",
       "        <td>15600</td>\n",
       "    </tr>\n",
       "    <tr>\n",
       "        <td>F9 B5 B1048.5</td>\n",
       "        <td>15600</td>\n",
       "    </tr>\n",
       "    <tr>\n",
       "        <td>F9 B5 B1048.4</td>\n",
       "        <td>15600</td>\n",
       "    </tr>\n",
       "    <tr>\n",
       "        <td>F9 B5 B1049.6</td>\n",
       "        <td>15440</td>\n",
       "    </tr>\n",
       "    <tr>\n",
       "        <td>F9 B5 B1059.3</td>\n",
       "        <td>15410</td>\n",
       "    </tr>\n",
       "    <tr>\n",
       "        <td>F9 B5 B1051.5</td>\n",
       "        <td>14932</td>\n",
       "    </tr>\n",
       "    <tr>\n",
       "        <td>F9 B5 B1049.3</td>\n",
       "        <td>13620</td>\n",
       "    </tr>\n",
       "    <tr>\n",
       "        <td>F9 B5B1058.1 </td>\n",
       "        <td>12530</td>\n",
       "    </tr>\n",
       "    <tr>\n",
       "        <td>F9 B5B1061.1 </td>\n",
       "        <td>12500</td>\n",
       "    </tr>\n",
       "    <tr>\n",
       "        <td>F9 B5B1051.1</td>\n",
       "        <td>12055</td>\n",
       "    </tr>\n",
       "    <tr>\n",
       "        <td>F9 B5 B1046.4</td>\n",
       "        <td>12050</td>\n",
       "    </tr>\n",
       "    <tr>\n",
       "        <td>F9 FT B1036.1</td>\n",
       "        <td>9600</td>\n",
       "    </tr>\n",
       "    <tr>\n",
       "        <td>F9 FT B1029.1</td>\n",
       "        <td>9600</td>\n",
       "    </tr>\n",
       "    <tr>\n",
       "        <td>F9 FT  B1036.2</td>\n",
       "        <td>9600</td>\n",
       "    </tr>\n",
       "    <tr>\n",
       "        <td>F9 B5B1048.1</td>\n",
       "        <td>9600</td>\n",
       "    </tr>\n",
       "    <tr>\n",
       "        <td>F9 B5 B1049.2</td>\n",
       "        <td>9600</td>\n",
       "    </tr>\n",
       "    <tr>\n",
       "        <td>F9 B4 B1041.1</td>\n",
       "        <td>9600</td>\n",
       "    </tr>\n",
       "    <tr>\n",
       "        <td>F9 B4  B1041.2</td>\n",
       "        <td>9600</td>\n",
       "    </tr>\n",
       "    <tr>\n",
       "        <td>F9 B5B1047.1</td>\n",
       "        <td>7075</td>\n",
       "    </tr>\n",
       "    <tr>\n",
       "        <td>F9 B5B1049.1</td>\n",
       "        <td>7060</td>\n",
       "    </tr>\n",
       "    <tr>\n",
       "        <td>F9 B5 B1056.3 </td>\n",
       "        <td>6956</td>\n",
       "    </tr>\n",
       "    <tr>\n",
       "        <td>F9 FT B1037</td>\n",
       "        <td>6761</td>\n",
       "    </tr>\n",
       "    <tr>\n",
       "        <td>F9 B5 B1047.3 </td>\n",
       "        <td>6500</td>\n",
       "    </tr>\n",
       "    <tr>\n",
       "        <td>F9 B4  B1043.2</td>\n",
       "        <td>6460</td>\n",
       "    </tr>\n",
       "    <tr>\n",
       "        <td>F9 B4 B1044</td>\n",
       "        <td>6092</td>\n",
       "    </tr>\n",
       "    <tr>\n",
       "        <td>F9 FT B1034</td>\n",
       "        <td>6070</td>\n",
       "    </tr>\n",
       "    <tr>\n",
       "        <td>F9 B5 B1046.2</td>\n",
       "        <td>5800</td>\n",
       "    </tr>\n",
       "    <tr>\n",
       "        <td>F9 FT B1030</td>\n",
       "        <td>5600</td>\n",
       "    </tr>\n",
       "    <tr>\n",
       "        <td>F9 B5 B1058.2 </td>\n",
       "        <td>5500</td>\n",
       "    </tr>\n",
       "    <tr>\n",
       "        <td>F9 B4  B1040.2</td>\n",
       "        <td>5384</td>\n",
       "    </tr>\n",
       "    <tr>\n",
       "        <td>F9 FT B1032.1</td>\n",
       "        <td>5300</td>\n",
       "    </tr>\n",
       "    <tr>\n",
       "        <td>F9 FT  B1021.2</td>\n",
       "        <td>5300</td>\n",
       "    </tr>\n",
       "    <tr>\n",
       "        <td>F9 B5 B1047.2</td>\n",
       "        <td>5300</td>\n",
       "    </tr>\n",
       "    <tr>\n",
       "        <td>F9 FT B1020</td>\n",
       "        <td>5271</td>\n",
       "    </tr>\n",
       "    <tr>\n",
       "        <td>F9 FT  B1031.2</td>\n",
       "        <td>5200</td>\n",
       "    </tr>\n",
       "    <tr>\n",
       "        <td>F9 B4 B1043.1</td>\n",
       "        <td>5000</td>\n",
       "    </tr>\n",
       "    <tr>\n",
       "        <td>F9 B4 B1040.1</td>\n",
       "        <td>4990</td>\n",
       "    </tr>\n",
       "    <tr>\n",
       "        <td>F9 B5 B1048.3</td>\n",
       "        <td>4850</td>\n",
       "    </tr>\n",
       "    <tr>\n",
       "        <td>F9 v1.1 B1016</td>\n",
       "        <td>4707</td>\n",
       "    </tr>\n",
       "    <tr>\n",
       "        <td>F9 FT B1022</td>\n",
       "        <td>4696</td>\n",
       "    </tr>\n",
       "    <tr>\n",
       "        <td>F9 FT B1026</td>\n",
       "        <td>4600</td>\n",
       "    </tr>\n",
       "    <tr>\n",
       "        <td>F9 v1.1</td>\n",
       "        <td>4535</td>\n",
       "    </tr>\n",
       "    <tr>\n",
       "        <td>F9 v1.1 B1011</td>\n",
       "        <td>4428</td>\n",
       "    </tr>\n",
       "    <tr>\n",
       "        <td>F9 B5B1054</td>\n",
       "        <td>4400</td>\n",
       "    </tr>\n",
       "    <tr>\n",
       "        <td>F9 B5B1062.1</td>\n",
       "        <td>4311</td>\n",
       "    </tr>\n",
       "    <tr>\n",
       "        <td>F9 B5B1060.1</td>\n",
       "        <td>4311</td>\n",
       "    </tr>\n",
       "    <tr>\n",
       "        <td>F9 FT  B1032.2</td>\n",
       "        <td>4230</td>\n",
       "    </tr>\n",
       "    <tr>\n",
       "        <td>F9 B5 B1051.2 </td>\n",
       "        <td>4200</td>\n",
       "    </tr>\n",
       "    <tr>\n",
       "        <td>F9 v1.1 B1014</td>\n",
       "        <td>4159</td>\n",
       "    </tr>\n",
       "    <tr>\n",
       "        <td>F9 B5 B1046.3</td>\n",
       "        <td>4000</td>\n",
       "    </tr>\n",
       "    <tr>\n",
       "        <td>F9 FT  B1029.2</td>\n",
       "        <td>3669</td>\n",
       "    </tr>\n",
       "    <tr>\n",
       "        <td>F9 FT B1024</td>\n",
       "        <td>3600</td>\n",
       "    </tr>\n",
       "    <tr>\n",
       "        <td>F9 B5  B1046.1</td>\n",
       "        <td>3600</td>\n",
       "    </tr>\n",
       "    <tr>\n",
       "        <td>F9 B4 B1042.1</td>\n",
       "        <td>3500</td>\n",
       "    </tr>\n",
       "    <tr>\n",
       "        <td>F9 B4 B1039.1</td>\n",
       "        <td>3310</td>\n",
       "    </tr>\n",
       "    <tr>\n",
       "        <td>F9 FT B1021.1</td>\n",
       "        <td>3136</td>\n",
       "    </tr>\n",
       "    <tr>\n",
       "        <td>F9 B5 B1059.4</td>\n",
       "        <td>3130</td>\n",
       "    </tr>\n",
       "    <tr>\n",
       "        <td>F9 FT B1023.1</td>\n",
       "        <td>3100</td>\n",
       "    </tr>\n",
       "    <tr>\n",
       "        <td>F9 B5 B1048.2</td>\n",
       "        <td>3000</td>\n",
       "    </tr>\n",
       "    <tr>\n",
       "        <td>F9 B5 B1058.4 </td>\n",
       "        <td>2972</td>\n",
       "    </tr>\n",
       "    <tr>\n",
       "        <td>F9 FT B1035.1</td>\n",
       "        <td>2708</td>\n",
       "    </tr>\n",
       "    <tr>\n",
       "        <td>F9 B4 B1045.2</td>\n",
       "        <td>2697</td>\n",
       "    </tr>\n",
       "    <tr>\n",
       "        <td>F9 B4  B1039.2</td>\n",
       "        <td>2647</td>\n",
       "    </tr>\n",
       "    <tr>\n",
       "        <td>F9 B5B1059.1</td>\n",
       "        <td>2617</td>\n",
       "    </tr>\n",
       "    <tr>\n",
       "        <td>F9 B5B1050</td>\n",
       "        <td>2500</td>\n",
       "    </tr>\n",
       "    <tr>\n",
       "        <td>F9 B5B1056.1 </td>\n",
       "        <td>2495</td>\n",
       "    </tr>\n",
       "    <tr>\n",
       "        <td>F9 FT B1031.1</td>\n",
       "        <td>2490</td>\n",
       "    </tr>\n",
       "    <tr>\n",
       "        <td>F9 v1.1 B1012</td>\n",
       "        <td>2395</td>\n",
       "    </tr>\n",
       "    <tr>\n",
       "        <td>F9 B5 B1056.2 </td>\n",
       "        <td>2268</td>\n",
       "    </tr>\n",
       "    <tr>\n",
       "        <td>F9 FT B1025.1</td>\n",
       "        <td>2257</td>\n",
       "    </tr>\n",
       "    <tr>\n",
       "        <td>F9 v1.1 B1010</td>\n",
       "        <td>2216</td>\n",
       "    </tr>\n",
       "    <tr>\n",
       "        <td>F9 FT  B1035.2</td>\n",
       "        <td>2205</td>\n",
       "    </tr>\n",
       "    <tr>\n",
       "        <td>F9 FT  B1038.2</td>\n",
       "        <td>2150</td>\n",
       "    </tr>\n",
       "    <tr>\n",
       "        <td>F9 FT B1019</td>\n",
       "        <td>2034</td>\n",
       "    </tr>\n",
       "    <tr>\n",
       "        <td>F9 B5 B1059.2</td>\n",
       "        <td>1977</td>\n",
       "    </tr>\n",
       "    <tr>\n",
       "        <td>F9 v1.1 B1018</td>\n",
       "        <td>1952</td>\n",
       "    </tr>\n",
       "    <tr>\n",
       "        <td>F9 v1.1 B1015</td>\n",
       "        <td>1898</td>\n",
       "    </tr>\n",
       "    <tr>\n",
       "        <td>F9 B5B1063.1</td>\n",
       "        <td>1192</td>\n",
       "    </tr>\n",
       "    <tr>\n",
       "        <td>F9 v1.0  B0007</td>\n",
       "        <td>677</td>\n",
       "    </tr>\n",
       "    <tr>\n",
       "        <td>F9 v1.1 B1013</td>\n",
       "        <td>570</td>\n",
       "    </tr>\n",
       "    <tr>\n",
       "        <td>F9 v1.1 B1017</td>\n",
       "        <td>553</td>\n",
       "    </tr>\n",
       "    <tr>\n",
       "        <td>F9 v1.0  B0005</td>\n",
       "        <td>525</td>\n",
       "    </tr>\n",
       "    <tr>\n",
       "        <td>F9 v1.1  B1003</td>\n",
       "        <td>500</td>\n",
       "    </tr>\n",
       "    <tr>\n",
       "        <td>F9 v1.0  B0006</td>\n",
       "        <td>500</td>\n",
       "    </tr>\n",
       "    <tr>\n",
       "        <td>F9 FT B1038.1</td>\n",
       "        <td>475</td>\n",
       "    </tr>\n",
       "    <tr>\n",
       "        <td>F9 B4 B1045.1</td>\n",
       "        <td>362</td>\n",
       "    </tr>\n",
       "    <tr>\n",
       "        <td>F9 v1.0  B0004</td>\n",
       "        <td>0</td>\n",
       "    </tr>\n",
       "    <tr>\n",
       "        <td>F9 v1.0  B0003</td>\n",
       "        <td>0</td>\n",
       "    </tr>\n",
       "</table>"
      ],
      "text/plain": [
       "[('F9 B5 B1060.3', 15600),\n",
       " ('F9 B5 B1060.2 ', 15600),\n",
       " ('F9 B5 B1058.3 ', 15600),\n",
       " ('F9 B5 B1056.4', 15600),\n",
       " ('F9 B5 B1051.6', 15600),\n",
       " ('F9 B5 B1051.4', 15600),\n",
       " ('F9 B5 B1051.3', 15600),\n",
       " ('F9 B5 B1049.7 ', 15600),\n",
       " ('F9 B5 B1049.5', 15600),\n",
       " ('F9 B5 B1049.4', 15600),\n",
       " ('F9 B5 B1048.5', 15600),\n",
       " ('F9 B5 B1048.4', 15600),\n",
       " ('F9 B5 B1049.6', 15440),\n",
       " ('F9 B5 B1059.3', 15410),\n",
       " ('F9 B5 B1051.5', 14932),\n",
       " ('F9 B5 B1049.3', 13620),\n",
       " ('F9 B5B1058.1 ', 12530),\n",
       " ('F9 B5B1061.1 ', 12500),\n",
       " ('F9 B5B1051.1', 12055),\n",
       " ('F9 B5 B1046.4', 12050),\n",
       " ('F9 FT B1036.1', 9600),\n",
       " ('F9 FT B1029.1', 9600),\n",
       " ('F9 FT  B1036.2', 9600),\n",
       " ('F9 B5B1048.1', 9600),\n",
       " ('F9 B5 B1049.2', 9600),\n",
       " ('F9 B4 B1041.1', 9600),\n",
       " ('F9 B4  B1041.2', 9600),\n",
       " ('F9 B5B1047.1', 7075),\n",
       " ('F9 B5B1049.1', 7060),\n",
       " ('F9 B5 B1056.3 ', 6956),\n",
       " ('F9 FT B1037', 6761),\n",
       " ('F9 B5 B1047.3 ', 6500),\n",
       " ('F9 B4  B1043.2', 6460),\n",
       " ('F9 B4 B1044', 6092),\n",
       " ('F9 FT B1034', 6070),\n",
       " ('F9 B5 B1046.2', 5800),\n",
       " ('F9 FT B1030', 5600),\n",
       " ('F9 B5 B1058.2 ', 5500),\n",
       " ('F9 B4  B1040.2', 5384),\n",
       " ('F9 FT B1032.1', 5300),\n",
       " ('F9 FT  B1021.2', 5300),\n",
       " ('F9 B5 B1047.2', 5300),\n",
       " ('F9 FT B1020', 5271),\n",
       " ('F9 FT  B1031.2', 5200),\n",
       " ('F9 B4 B1043.1', 5000),\n",
       " ('F9 B4 B1040.1', 4990),\n",
       " ('F9 B5 B1048.3', 4850),\n",
       " ('F9 v1.1 B1016', 4707),\n",
       " ('F9 FT B1022', 4696),\n",
       " ('F9 FT B1026', 4600),\n",
       " ('F9 v1.1', 4535),\n",
       " ('F9 v1.1 B1011', 4428),\n",
       " ('F9 B5B1054', 4400),\n",
       " ('F9 B5B1062.1', 4311),\n",
       " ('F9 B5B1060.1', 4311),\n",
       " ('F9 FT  B1032.2', 4230),\n",
       " ('F9 B5 B1051.2 ', 4200),\n",
       " ('F9 v1.1 B1014', 4159),\n",
       " ('F9 B5 B1046.3', 4000),\n",
       " ('F9 FT  B1029.2', 3669),\n",
       " ('F9 FT B1024', 3600),\n",
       " ('F9 B5  B1046.1', 3600),\n",
       " ('F9 B4 B1042.1', 3500),\n",
       " ('F9 B4 B1039.1', 3310),\n",
       " ('F9 FT B1021.1', 3136),\n",
       " ('F9 B5 B1059.4', 3130),\n",
       " ('F9 FT B1023.1', 3100),\n",
       " ('F9 B5 B1048.2', 3000),\n",
       " ('F9 B5 B1058.4 ', 2972),\n",
       " ('F9 FT B1035.1', 2708),\n",
       " ('F9 B4 B1045.2', 2697),\n",
       " ('F9 B4  B1039.2', 2647),\n",
       " ('F9 B5B1059.1', 2617),\n",
       " ('F9 B5B1050', 2500),\n",
       " ('F9 B5B1056.1 ', 2495),\n",
       " ('F9 FT B1031.1', 2490),\n",
       " ('F9 v1.1 B1012', 2395),\n",
       " ('F9 B5 B1056.2 ', 2268),\n",
       " ('F9 FT B1025.1', 2257),\n",
       " ('F9 v1.1 B1010', 2216),\n",
       " ('F9 FT  B1035.2', 2205),\n",
       " ('F9 FT  B1038.2', 2150),\n",
       " ('F9 FT B1019', 2034),\n",
       " ('F9 B5 B1059.2', 1977),\n",
       " ('F9 v1.1 B1018', 1952),\n",
       " ('F9 v1.1 B1015', 1898),\n",
       " ('F9 B5B1063.1', 1192),\n",
       " ('F9 v1.0  B0007', 677),\n",
       " ('F9 v1.1 B1013', 570),\n",
       " ('F9 v1.1 B1017', 553),\n",
       " ('F9 v1.0  B0005', 525),\n",
       " ('F9 v1.1  B1003', 500),\n",
       " ('F9 v1.0  B0006', 500),\n",
       " ('F9 FT B1038.1', 475),\n",
       " ('F9 B4 B1045.1', 362),\n",
       " ('F9 v1.0  B0004', 0),\n",
       " ('F9 v1.0  B0003', 0)]"
      ]
     },
     "execution_count": 11,
     "metadata": {},
     "output_type": "execute_result"
    }
   ],
   "source": [
    "%%sql\n",
    "SELECT Booster_Version, max(PAYLOAD_MASS__KG_) as PayloadMass FROM Spacex\n",
    "GROUP BY Booster_Version ORDER BY PayloadMass DESC;"
   ]
  },
  {
   "cell_type": "markdown",
   "metadata": {},
   "source": [
    "### Task 9\n",
    "\n",
    "##### List the failed landing_outcomes in drone ship, their booster versions, and launch site names for in year 2015\n"
   ]
  },
  {
   "cell_type": "code",
   "execution_count": 12,
   "metadata": {},
   "outputs": [
    {
     "name": "stdout",
     "output_type": "stream",
     "text": [
      " * sqlite:///IBMCapstoneSQL.db\n",
      "Done.\n"
     ]
    },
    {
     "data": {
      "text/html": [
       "<table>\n",
       "    <tr>\n",
       "        <th>Booster_Version</th>\n",
       "        <th>Launch_Site</th>\n",
       "    </tr>\n",
       "    <tr>\n",
       "        <td>F9 v1.1 B1012</td>\n",
       "        <td>CCAFS LC-40</td>\n",
       "    </tr>\n",
       "    <tr>\n",
       "        <td>F9 v1.1 B1015</td>\n",
       "        <td>CCAFS LC-40</td>\n",
       "    </tr>\n",
       "</table>"
      ],
      "text/plain": [
       "[('F9 v1.1 B1012', 'CCAFS LC-40'), ('F9 v1.1 B1015', 'CCAFS LC-40')]"
      ]
     },
     "execution_count": 12,
     "metadata": {},
     "output_type": "execute_result"
    }
   ],
   "source": [
    "%%sql\n",
    "SELECT Booster_Version, Launch_Site FROM Spacex\n",
    "WHERE \"Landing _Outcome\" LIKE \"%Failure (drone ship)%\" and\n",
    "\"Date\" LIKE \"%2015%\""
   ]
  },
  {
   "cell_type": "markdown",
   "metadata": {},
   "source": [
    "### Task 10\n",
    "\n",
    "##### Rank the count of landing outcomes (such as Failure (drone ship) or Success (ground pad)) between the date 2010-06-04 and 2017-03-20, in descending order\n"
   ]
  },
  {
   "cell_type": "code",
   "execution_count": 13,
   "metadata": {},
   "outputs": [
    {
     "name": "stdout",
     "output_type": "stream",
     "text": [
      " * sqlite:///IBMCapstoneSQL.db\n",
      "Done.\n"
     ]
    },
    {
     "data": {
      "text/html": [
       "<table>\n",
       "    <tr>\n",
       "        <th>Landing _Outcome</th>\n",
       "        <th>Counts</th>\n",
       "    </tr>\n",
       "    <tr>\n",
       "        <td>Success</td>\n",
       "        <td>20</td>\n",
       "    </tr>\n",
       "    <tr>\n",
       "        <td>No attempt</td>\n",
       "        <td>10</td>\n",
       "    </tr>\n",
       "    <tr>\n",
       "        <td>Success (drone ship)</td>\n",
       "        <td>8</td>\n",
       "    </tr>\n",
       "    <tr>\n",
       "        <td>Success (ground pad)</td>\n",
       "        <td>6</td>\n",
       "    </tr>\n",
       "    <tr>\n",
       "        <td>Failure (drone ship)</td>\n",
       "        <td>4</td>\n",
       "    </tr>\n",
       "    <tr>\n",
       "        <td>Failure</td>\n",
       "        <td>3</td>\n",
       "    </tr>\n",
       "    <tr>\n",
       "        <td>Controlled (ocean)</td>\n",
       "        <td>3</td>\n",
       "    </tr>\n",
       "    <tr>\n",
       "        <td>Failure (parachute)</td>\n",
       "        <td>2</td>\n",
       "    </tr>\n",
       "    <tr>\n",
       "        <td>No attempt </td>\n",
       "        <td>1</td>\n",
       "    </tr>\n",
       "</table>"
      ],
      "text/plain": [
       "[('Success', 20),\n",
       " ('No attempt', 10),\n",
       " ('Success (drone ship)', 8),\n",
       " ('Success (ground pad)', 6),\n",
       " ('Failure (drone ship)', 4),\n",
       " ('Failure', 3),\n",
       " ('Controlled (ocean)', 3),\n",
       " ('Failure (parachute)', 2),\n",
       " ('No attempt ', 1)]"
      ]
     },
     "execution_count": 13,
     "metadata": {},
     "output_type": "execute_result"
    }
   ],
   "source": [
    "%%sql\n",
    "SELECT \"Landing _Outcome\", Count(\"Landing _Outcome\") as Counts  FROM Spacex\n",
    "WHERE \"DATE\" >= \"04-06-2010\" AND \"DATE\" <= \"20-03-2010\"\n",
    "GROUP BY \"Landing _Outcome\"\n",
    "ORDER BY Counts desc"
   ]
  },
  {
   "cell_type": "markdown",
   "metadata": {},
   "source": [
    "### Reference Links\n",
    "\n",
    "*   <a href =\"https://cf-courses-data.s3.us.cloud-object-storage.appdomain.cloud/IBMDeveloperSkillsNetwork-DB0201EN-SkillsNetwork/labs/Labs_Coursera_V5/labs/Lab%20-%20String%20Patterns%20-%20Sorting%20-%20Grouping/instructional-labs.md.html?utm_medium=Exinfluencer&utm_source=Exinfluencer&utm_content=000026UJ&utm_term=10006555&utm_id=NA-SkillsNetwork-Channel-SkillsNetworkCoursesIBMDS0321ENSkillsNetwork26802033-2021-01-01&origin=www.coursera.org\">Hands-on Lab : String Patterns, Sorting and Grouping</a>\n",
    "\n",
    "*   <a  href=\"https://cf-courses-data.s3.us.cloud-object-storage.appdomain.cloud/IBMDeveloperSkillsNetwork-DB0201EN-SkillsNetwork/labs/Labs_Coursera_V5/labs/Lab%20-%20Built-in%20functions%20/Hands-on_Lab__Built-in_Functions.md.html?utm_medium=Exinfluencer&utm_source=Exinfluencer&utm_content=000026UJ&utm_term=10006555&utm_id=NA-SkillsNetwork-Channel-SkillsNetworkCoursesIBMDS0321ENSkillsNetwork26802033-2021-01-01&origin=www.coursera.org\">Hands-on Lab: Built-in functions</a>\n",
    "\n",
    "*   <a  href=\"https://cf-courses-data.s3.us.cloud-object-storage.appdomain.cloud/IBMDeveloperSkillsNetwork-DB0201EN-SkillsNetwork/labs/Labs_Coursera_V5/labs/Lab%20-%20Sub-queries%20and%20Nested%20SELECTs%20/instructional-labs.md.html?utm_medium=Exinfluencer&utm_source=Exinfluencer&utm_content=000026UJ&utm_term=10006555&utm_id=NA-SkillsNetwork-Channel-SkillsNetworkCoursesIBMDS0321ENSkillsNetwork26802033-2021-01-01&origin=www.coursera.org\">Hands-on Lab : Sub-queries and Nested SELECT Statements</a>\n",
    "\n",
    "*   <a href=\"https://cf-courses-data.s3.us.cloud-object-storage.appdomain.cloud/IBMDeveloperSkillsNetwork-DB0201EN-SkillsNetwork/labs/Module%205/DB0201EN-Week3-1-3-SQLmagic.ipynb?utm_medium=Exinfluencer&utm_source=Exinfluencer&utm_content=000026UJ&utm_term=10006555&utm_id=NA-SkillsNetwork-Channel-SkillsNetworkCoursesIBMDS0321ENSkillsNetwork26802033-2021-01-01\">Hands-on Tutorial: Accessing Databases with SQL magic</a>\n",
    "\n",
    "*   <a href= \"https://cf-courses-data.s3.us.cloud-object-storage.appdomain.cloud/IBMDeveloperSkillsNetwork-DB0201EN-SkillsNetwork/labs/Module%205/DB0201EN-Week3-1-4-Analyzing.ipynb?utm_medium=Exinfluencer&utm_source=Exinfluencer&utm_content=000026UJ&utm_term=10006555&utm_id=NA-SkillsNetwork-Channel-SkillsNetworkCoursesIBMDS0321ENSkillsNetwork26802033-2021-01-01\">Hands-on Lab: Analyzing a real World Data Set</a>\n"
   ]
  },
  {
   "cell_type": "markdown",
   "metadata": {},
   "source": [
    "## Author(s)\n",
    "\n",
    "<h4> Lakshmi Holla </h4>\n"
   ]
  },
  {
   "cell_type": "markdown",
   "metadata": {},
   "source": [
    "## Other Contributors\n",
    "\n",
    "<h4> Rav Ahuja </h4>\n"
   ]
  },
  {
   "cell_type": "markdown",
   "metadata": {},
   "source": [
    "## Change log\n",
    "\n",
    "| Date       | Version | Changed by    | Change Description        |\n",
    "| ---------- | ------- | ------------- | ------------------------- |\n",
    "| 2021-08-24 | 0.3     | Lakshmi Holla | Added library update      |\n",
    "| 2021-07-09 | 0.2     | Lakshmi Holla | Changes made in magic sql |\n",
    "| 2021-05-20 | 0.1     | Lakshmi Holla | Created Initial Version   |\n"
   ]
  },
  {
   "cell_type": "markdown",
   "metadata": {},
   "source": [
    "## <h3 align=\"center\"> © IBM Corporation 2021. All rights reserved. <h3/>\n"
   ]
  }
 ],
 "metadata": {
  "kernelspec": {
   "display_name": "Python 3",
   "language": "python",
   "name": "python3"
  },
  "language_info": {
   "codemirror_mode": {
    "name": "ipython",
    "version": 3
   },
   "file_extension": ".py",
   "mimetype": "text/x-python",
   "name": "python",
   "nbconvert_exporter": "python",
   "pygments_lexer": "ipython3",
   "version": "3.8.5"
  }
 },
 "nbformat": 4,
 "nbformat_minor": 4
}
